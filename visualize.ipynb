{
 "cells": [
  {
   "cell_type": "markdown",
   "metadata": {},
   "source": [
    "# Visualization of Stock Trading"
   ]
  },
  {
   "cell_type": "code",
   "execution_count": 1,
   "metadata": {},
   "outputs": [],
   "source": [
    "# import libraries\n",
    "import pandas as pd\n",
    "import numpy as np\n",
    "import altair as alt\n",
    "import seaborn as sns"
   ]
  },
  {
   "cell_type": "markdown",
   "metadata": {},
   "source": [
    "## Set relevant parameters"
   ]
  },
  {
   "cell_type": "code",
   "execution_count": 2,
   "metadata": {},
   "outputs": [],
   "source": [
    "train_stock = 'data/GOOGL.csv'\n",
    "val_stock = 'data/BTC-USD_Val.csv'\n",
    "window_size = 10\n",
    "batch_size = 16\n",
    "ep_count = 10\n",
    "model_name = 'model_GOOGL'\n",
    "pretrained = False\n",
    "debug = False"
   ]
  },
  {
   "cell_type": "markdown",
   "metadata": {},
   "source": [
    "## Load Dataset into pandas DataFrame"
   ]
  },
  {
   "cell_type": "code",
   "execution_count": 4,
   "metadata": {},
   "outputs": [
    {
     "data": {
      "text/html": [
       "<div>\n",
       "<style scoped>\n",
       "    .dataframe tbody tr th:only-of-type {\n",
       "        vertical-align: middle;\n",
       "    }\n",
       "\n",
       "    .dataframe tbody tr th {\n",
       "        vertical-align: top;\n",
       "    }\n",
       "\n",
       "    .dataframe thead th {\n",
       "        text-align: right;\n",
       "    }\n",
       "</style>\n",
       "<table border=\"1\" class=\"dataframe\">\n",
       "  <thead>\n",
       "    <tr style=\"text-align: right;\">\n",
       "      <th></th>\n",
       "      <th>date</th>\n",
       "      <th>actual</th>\n",
       "    </tr>\n",
       "  </thead>\n",
       "  <tbody>\n",
       "    <tr>\n",
       "      <td>0</td>\n",
       "      <td>2018-12-10</td>\n",
       "      <td>3502.656006</td>\n",
       "    </tr>\n",
       "    <tr>\n",
       "      <td>1</td>\n",
       "      <td>2018-12-11</td>\n",
       "      <td>3424.588135</td>\n",
       "    </tr>\n",
       "    <tr>\n",
       "      <td>2</td>\n",
       "      <td>2018-12-12</td>\n",
       "      <td>3486.950195</td>\n",
       "    </tr>\n",
       "    <tr>\n",
       "      <td>3</td>\n",
       "      <td>2018-12-13</td>\n",
       "      <td>3313.677246</td>\n",
       "    </tr>\n",
       "    <tr>\n",
       "      <td>4</td>\n",
       "      <td>2018-12-14</td>\n",
       "      <td>3242.484863</td>\n",
       "    </tr>\n",
       "  </tbody>\n",
       "</table>\n",
       "</div>"
      ],
      "text/plain": [
       "         date       actual\n",
       "0  2018-12-10  3502.656006\n",
       "1  2018-12-11  3424.588135\n",
       "2  2018-12-12  3486.950195\n",
       "3  2018-12-13  3313.677246\n",
       "4  2018-12-14  3242.484863"
      ]
     },
     "execution_count": 4,
     "metadata": {},
     "output_type": "execute_result"
    }
   ],
   "source": [
    "# read csv into dataframe\n",
    "df = pd.read_csv(val_stock)\n",
    "\n",
    "# filter out the desired features\n",
    "df = df[['Date', 'Adj Close']]\n",
    "\n",
    "# rename feature column names\n",
    "df = df.rename(columns={'Adj Close': 'actual', 'Date': 'date'})\n",
    "\n",
    "df.head()"
   ]
  },
  {
   "cell_type": "code",
   "execution_count": 5,
   "metadata": {},
   "outputs": [],
   "source": [
    "# convert dates from object to DateTime type\n",
    "dates = df['date']\n",
    "dates = pd.to_datetime(dates, infer_datetime_format=True)\n",
    "df['date'] = dates"
   ]
  },
  {
   "cell_type": "code",
   "execution_count": 10,
   "metadata": {},
   "outputs": [
    {
     "name": "stdout",
     "output_type": "stream",
     "text": [
      "<class 'pandas.core.frame.DataFrame'>\n",
      "RangeIndex: 366 entries, 0 to 365\n",
      "Data columns (total 2 columns):\n",
      "date      366 non-null datetime64[ns]\n",
      "actual    366 non-null float64\n",
      "dtypes: datetime64[ns](1), float64(1)\n",
      "memory usage: 5.8 KB\n"
     ]
    },
    {
     "data": {
      "text/html": [
       "<div>\n",
       "<style scoped>\n",
       "    .dataframe tbody tr th:only-of-type {\n",
       "        vertical-align: middle;\n",
       "    }\n",
       "\n",
       "    .dataframe tbody tr th {\n",
       "        vertical-align: top;\n",
       "    }\n",
       "\n",
       "    .dataframe thead th {\n",
       "        text-align: right;\n",
       "    }\n",
       "</style>\n",
       "<table border=\"1\" class=\"dataframe\">\n",
       "  <thead>\n",
       "    <tr style=\"text-align: right;\">\n",
       "      <th></th>\n",
       "      <th>date</th>\n",
       "      <th>actual</th>\n",
       "    </tr>\n",
       "  </thead>\n",
       "  <tbody>\n",
       "    <tr>\n",
       "      <td>0</td>\n",
       "      <td>2018-12-10</td>\n",
       "      <td>3502.656006</td>\n",
       "    </tr>\n",
       "    <tr>\n",
       "      <td>1</td>\n",
       "      <td>2018-12-11</td>\n",
       "      <td>3424.588135</td>\n",
       "    </tr>\n",
       "    <tr>\n",
       "      <td>2</td>\n",
       "      <td>2018-12-12</td>\n",
       "      <td>3486.950195</td>\n",
       "    </tr>\n",
       "    <tr>\n",
       "      <td>3</td>\n",
       "      <td>2018-12-13</td>\n",
       "      <td>3313.677246</td>\n",
       "    </tr>\n",
       "    <tr>\n",
       "      <td>4</td>\n",
       "      <td>2018-12-14</td>\n",
       "      <td>3242.484863</td>\n",
       "    </tr>\n",
       "  </tbody>\n",
       "</table>\n",
       "</div>"
      ],
      "text/plain": [
       "        date       actual\n",
       "0 2018-12-10  3502.656006\n",
       "1 2018-12-11  3424.588135\n",
       "2 2018-12-12  3486.950195\n",
       "3 2018-12-13  3313.677246\n",
       "4 2018-12-14  3242.484863"
      ]
     },
     "execution_count": 10,
     "metadata": {},
     "output_type": "execute_result"
    }
   ],
   "source": [
    "df.info()\n",
    "df.head()"
   ]
  },
  {
   "cell_type": "markdown",
   "metadata": {},
   "source": [
    "## Visualization of actions taken by Trading Bot"
   ]
  },
  {
   "cell_type": "code",
   "execution_count": 6,
   "metadata": {},
   "outputs": [],
   "source": [
    "def visualize(df, history):\n",
    "    # add history to dataframe\n",
    "    position = [history[0][0]] + [x[0] for x in history]\n",
    "    actions = ['HOLD'] + [x[1] for x in history]\n",
    "    df['position'] = position\n",
    "    df['action'] = actions\n",
    "    \n",
    "    # specify y-axis scale for stock prices\n",
    "    scale = alt.Scale(domain=(min(min(df['actual']), min(df['position'])) - 50, max(max(df['actual']), max(df['position'])) + 50), clamp=True)\n",
    "    \n",
    "    # plot a line chart for stock positions\n",
    "    actual = alt.Chart(df).mark_line(\n",
    "        color='green',\n",
    "        opacity=0.5\n",
    "    ).encode(\n",
    "        x='date:T',\n",
    "        y=alt.Y('position', axis=alt.Axis(format='$.2f', title='Price'), scale=scale)\n",
    "    ).interactive(\n",
    "        bind_y=False\n",
    "    )\n",
    "    \n",
    "    # plot the BUY and SELL actions as points\n",
    "    points = alt.Chart(df).transform_filter(\n",
    "        alt.datum.action != 'HOLD'\n",
    "    ).mark_point(\n",
    "        filled=True\n",
    "    ).encode(\n",
    "        x=alt.X('date:T', axis=alt.Axis(title='Date')),\n",
    "        y=alt.Y('position', axis=alt.Axis(format='$.2f', title='Price'), scale=scale),\n",
    "        color='action'\n",
    "        #color=alt.Color('action', scale=alt.Scale(range=['blue', 'red']))\n",
    "    ).interactive(bind_y=False)\n",
    "\n",
    "    # merge the two charts\n",
    "    chart = alt.layer(actual, points, title=val_stock).properties(height=300, width=1000)\n",
    "    \n",
    "    return chart"
   ]
  },
  {
   "cell_type": "markdown",
   "metadata": {},
   "source": [
    "## Training the model"
   ]
  },
  {
   "cell_type": "code",
   "execution_count": 9,
   "metadata": {},
   "outputs": [
    {
     "name": "stderr",
     "output_type": "stream",
     "text": [
      "Using TensorFlow backend.\n",
      "2019-12-26 10:52:03 MR-ROBOT root[19500] DEBUG switching to TensorFlow for CPU\n",
      "Episode 1/10: 100%|█████████████████████████████████████████████████████████████| 1760/1760 [01:08<00:00, 25.71it/s]\n",
      "2019-12-26 10:53:12 MR-ROBOT root[19500] INFO Episode 1/10 - Train Position: +$1173.44  Val Position: -$5628.36  Train Loss: 0.6349  (~68.4679 secs)\n",
      "Episode 2/10: 100%|█████████████████████████████████████████████████████████████| 1760/1760 [01:08<00:00, 25.86it/s]\n",
      "2019-12-26 10:54:21 MR-ROBOT root[19500] INFO Episode 2/10 - Train Position: +$176.23  Val Position: +$2648.37  Train Loss: 8.2730  (~68.0636 secs)\n",
      "Episode 3/10: 100%|█████████████████████████████████████████████████████████████| 1760/1760 [01:07<00:00, 26.05it/s]\n",
      "2019-12-26 10:55:29 MR-ROBOT root[19500] INFO Episode 3/10 - Train Position: +$526.33  Val Position: +$37104.51  Train Loss: 2.6399  (~67.5699 secs)\n",
      "Episode 4/10: 100%|█████████████████████████████████████████████████████████████| 1760/1760 [01:07<00:00, 25.91it/s]\n",
      "2019-12-26 10:56:37 MR-ROBOT root[19500] INFO Episode 4/10 - Train Position: +$927.24  Val Position: -$477.36  Train Loss: 12.7226  (~67.9494 secs)\n",
      "Episode 5/10: 100%|█████████████████████████████████████████████████████████████| 1760/1760 [01:07<00:00, 25.91it/s]\n",
      "2019-12-26 10:57:45 MR-ROBOT root[19500] INFO Episode 5/10 - Train Position: +$847.01  Val Position: -$7162.12  Train Loss: 0.6806  (~67.9155 secs)\n",
      "Episode 6/10: 100%|█████████████████████████████████████████████████████████████| 1760/1760 [01:07<00:00, 26.11it/s]\n",
      "2019-12-26 10:58:53 MR-ROBOT root[19500] INFO Episode 6/10 - Train Position: +$933.93  Val Position: -$989.83  Train Loss: 2.5167  (~67.4085 secs)\n",
      "Episode 7/10: 100%|█████████████████████████████████████████████████████████████| 1760/1760 [01:07<00:00, 26.15it/s]\n",
      "2019-12-26 11:00:01 MR-ROBOT root[19500] INFO Episode 7/10 - Train Position: +$2002.49  Val Position: +$37264.47  Train Loss: 1.4586  (~67.2972 secs)\n",
      "Episode 8/10: 100%|█████████████████████████████████████████████████████████████| 1760/1760 [01:07<00:00, 26.07it/s]\n",
      "2019-12-26 11:01:09 MR-ROBOT root[19500] INFO Episode 8/10 - Train Position: +$991.55  Val Position: +$8525.98  Train Loss: 13.8850  (~67.5109 secs)\n",
      "Episode 9/10: 100%|█████████████████████████████████████████████████████████████| 1760/1760 [01:07<00:00, 26.09it/s]\n",
      "2019-12-26 11:02:17 MR-ROBOT root[19500] INFO Episode 9/10 - Train Position: +$1137.84  Val Position: +$414.54  Train Loss: 11.1058  (~67.4522 secs)\n",
      "Episode 10/10: 100%|████████████████████████████████████████████████████████████| 1760/1760 [01:07<00:00, 25.91it/s]\n",
      "2019-12-26 11:03:25 MR-ROBOT root[19500] INFO Episode 10/10 - Train Position: +$1233.75  Val Position: +$5879.64  Train Loss: 1.4942  (~67.9335 secs)\n"
     ]
    }
   ],
   "source": [
    "import logging\n",
    "import coloredlogs\n",
    "\n",
    "from train import *\n",
    "from evaluate import show_eval_result\n",
    "\n",
    "coloredlogs.install(level='DEBUG')\n",
    "switch_k_backend_device()\n",
    "\n",
    "agent = Agent(window_size, pretrained=pretrained, model_name=model_name)\n",
    "train_data = get_stock_data(train_stock)\n",
    "val_data = get_stock_data(val_stock)\n",
    "\n",
    "initial_offset = val_data[1] - val_data[0]\n",
    "\n",
    "for i in range(1, ep_count + 1):\n",
    "    train_result = train_model(agent, i, train_data, ep_count=ep_count,\n",
    "                                batch_size=batch_size, window_size=window_size)\n",
    "    val_result, _ = evaluate_model(agent, val_data, window_size, debug)\n",
    "    show_train_result(train_result, val_result, initial_offset)"
   ]
  },
  {
   "cell_type": "markdown",
   "metadata": {},
   "source": [
    "## Plotting the evaluation actions"
   ]
  },
  {
   "cell_type": "code",
   "execution_count": 10,
   "metadata": {},
   "outputs": [
    {
     "name": "stderr",
     "output_type": "stream",
     "text": [
      "2019-12-26 11:30:03 MR-ROBOT root[19500] INFO model_GOOGL: +$5879.64\n",
      "\n",
      "2019-12-26 11:30:03 MR-ROBOT numexpr.utils[19500] INFO NumExpr defaulting to 8 threads.\n"
     ]
    },
    {
     "data": {
      "text/html": [
       "\n",
       "<div id=\"altair-viz-1\"></div>\n",
       "<script type=\"text/javascript\">\n",
       "  (function(spec, embedOpt){\n",
       "    const outputDiv = document.getElementById(\"altair-viz-1\");\n",
       "    const paths = {\n",
       "      \"vega\": \"https://cdn.jsdelivr.net/npm//vega@5?noext\",\n",
       "      \"vega-lib\": \"https://cdn.jsdelivr.net/npm//vega-lib?noext\",\n",
       "      \"vega-lite\": \"https://cdn.jsdelivr.net/npm//vega-lite@4.0.0?noext\",\n",
       "      \"vega-embed\": \"https://cdn.jsdelivr.net/npm//vega-embed@6?noext\",\n",
       "    };\n",
       "\n",
       "    function loadScript(lib) {\n",
       "      return new Promise(function(resolve, reject) {\n",
       "        var s = document.createElement('script');\n",
       "        s.src = paths[lib];\n",
       "        s.async = true;\n",
       "        s.onload = () => resolve(paths[lib]);\n",
       "        s.onerror = () => reject(`Error loading script: ${paths[lib]}`);\n",
       "        document.getElementsByTagName(\"head\")[0].appendChild(s);\n",
       "      });\n",
       "    }\n",
       "\n",
       "    function showError(err) {\n",
       "      outputDiv.innerHTML = `<div class=\"error\" style=\"color:red;\">${err}</div>`;\n",
       "      throw err;\n",
       "    }\n",
       "\n",
       "    function displayChart(vegaEmbed) {\n",
       "      vegaEmbed(outputDiv, spec, embedOpt)\n",
       "        .catch(err => showError(`Javascript Error: ${err.message}<br>This usually means there's a typo in your chart specification. See the javascript console for the full traceback.`));\n",
       "    }\n",
       "\n",
       "    if(typeof define === \"function\" && define.amd) {\n",
       "      requirejs.config({paths});\n",
       "      require([\"vega-embed\"], displayChart, err => showError(`Error loading script: ${err.message}`));\n",
       "    } else if (typeof vegaEmbed === \"function\") {\n",
       "      displayChart(vegaEmbed);\n",
       "    } else {\n",
       "      loadScript(\"vega\")\n",
       "        .then(() => loadScript(\"vega-lite\"))\n",
       "        .then(() => loadScript(\"vega-embed\"))\n",
       "        .catch(showError)\n",
       "        .then(() => displayChart(vegaEmbed));\n",
       "    }\n",
       "  })({\"config\": {\"view\": {\"continuousWidth\": 400, \"continuousHeight\": 300}}, \"layer\": [{\"mark\": {\"type\": \"line\", \"color\": \"green\", \"opacity\": 0.5}, \"encoding\": {\"x\": {\"type\": \"temporal\", \"field\": \"date\"}, \"y\": {\"type\": \"quantitative\", \"axis\": {\"format\": \"$.2f\", \"title\": \"Price\"}, \"field\": \"position\", \"scale\": {\"clamp\": true, \"domain\": [3186.761719, 13066.231445]}}}, \"selection\": {\"selector001\": {\"type\": \"interval\", \"bind\": \"scales\", \"encodings\": [\"x\"]}}}, {\"mark\": {\"type\": \"point\", \"filled\": true}, \"encoding\": {\"color\": {\"type\": \"nominal\", \"field\": \"action\"}, \"x\": {\"type\": \"temporal\", \"axis\": {\"title\": \"Date\"}, \"field\": \"date\"}, \"y\": {\"type\": \"quantitative\", \"axis\": {\"format\": \"$.2f\", \"title\": \"Price\"}, \"field\": \"position\", \"scale\": {\"clamp\": true, \"domain\": [3186.761719, 13066.231445]}}}, \"selection\": {\"selector002\": {\"type\": \"interval\", \"bind\": \"scales\", \"encodings\": [\"x\"]}}, \"transform\": [{\"filter\": \"(datum.action !== 'HOLD')\"}]}], \"data\": {\"name\": \"data-be2c5db103018f2ad50b216cb59ce017\"}, \"height\": 300, \"title\": \"data/BTC-USD_Val.csv\", \"width\": 1000, \"$schema\": \"https://vega.github.io/schema/vega-lite/v4.0.0.json\", \"datasets\": {\"data-be2c5db103018f2ad50b216cb59ce017\": [{\"date\": \"2018-12-10T00:00:00\", \"actual\": 3502.656006, \"position\": 3502.656006, \"action\": \"HOLD\"}, {\"date\": \"2018-12-11T00:00:00\", \"actual\": 3424.588135, \"position\": 3502.656006, \"action\": \"BUY\"}, {\"date\": \"2018-12-12T00:00:00\", \"actual\": 3486.9501950000003, \"position\": 3424.588135, \"action\": \"BUY\"}, {\"date\": \"2018-12-13T00:00:00\", \"actual\": 3313.677246, \"position\": 3486.9501950000003, \"action\": \"SELL\"}, {\"date\": \"2018-12-14T00:00:00\", \"actual\": 3242.4848629999997, \"position\": 3313.677246, \"action\": \"SELL\"}, {\"date\": \"2018-12-15T00:00:00\", \"actual\": 3236.761719, \"position\": 3242.4848629999997, \"action\": \"BUY\"}, {\"date\": \"2018-12-16T00:00:00\", \"actual\": 3252.839111, \"position\": 3236.761719, \"action\": \"BUY\"}, {\"date\": \"2018-12-17T00:00:00\", \"actual\": 3545.864746, \"position\": 3252.839111, \"action\": \"BUY\"}, {\"date\": \"2018-12-18T00:00:00\", \"actual\": 3696.059082, \"position\": 3545.864746, \"action\": \"SELL\"}, {\"date\": \"2018-12-19T00:00:00\", \"actual\": 3745.9506840000004, \"position\": 3696.059082, \"action\": \"SELL\"}, {\"date\": \"2018-12-20T00:00:00\", \"actual\": 4134.441406, \"position\": 3745.9506840000004, \"action\": \"SELL\"}, {\"date\": \"2018-12-21T00:00:00\", \"actual\": 3896.5437009999996, \"position\": 4134.441406, \"action\": \"HOLD\"}, {\"date\": \"2018-12-22T00:00:00\", \"actual\": 4014.1826170000004, \"position\": 3896.5437009999996, \"action\": \"BUY\"}, {\"date\": \"2018-12-23T00:00:00\", \"actual\": 3998.980225, \"position\": 4014.1826170000004, \"action\": \"SELL\"}, {\"date\": \"2018-12-24T00:00:00\", \"actual\": 4078.599121, \"position\": 3998.980225, \"action\": \"HOLD\"}, {\"date\": \"2018-12-25T00:00:00\", \"actual\": 3815.490723, \"position\": 4078.599121, \"action\": \"HOLD\"}, {\"date\": \"2018-12-26T00:00:00\", \"actual\": 3857.297607, \"position\": 3815.490723, \"action\": \"HOLD\"}, {\"date\": \"2018-12-27T00:00:00\", \"actual\": 3654.833496, \"position\": 3857.297607, \"action\": \"BUY\"}, {\"date\": \"2018-12-28T00:00:00\", \"actual\": 3923.9187009999996, \"position\": 3654.833496, \"action\": \"BUY\"}, {\"date\": \"2018-12-29T00:00:00\", \"actual\": 3820.4086909999996, \"position\": 3923.9187009999996, \"action\": \"SELL\"}, {\"date\": \"2018-12-30T00:00:00\", \"actual\": 3865.952637, \"position\": 3820.4086909999996, \"action\": \"BUY\"}, {\"date\": \"2018-12-31T00:00:00\", \"actual\": 3742.700439, \"position\": 3865.952637, \"action\": \"SELL\"}, {\"date\": \"2019-01-01T00:00:00\", \"actual\": 3843.5200200000004, \"position\": 3742.700439, \"action\": \"BUY\"}, {\"date\": \"2019-01-02T00:00:00\", \"actual\": 3943.4094240000004, \"position\": 3843.5200200000004, \"action\": \"SELL\"}, {\"date\": \"2019-01-03T00:00:00\", \"actual\": 3836.741211, \"position\": 3943.4094240000004, \"action\": \"BUY\"}, {\"date\": \"2019-01-04T00:00:00\", \"actual\": 3857.717529, \"position\": 3836.741211, \"action\": \"SELL\"}, {\"date\": \"2019-01-05T00:00:00\", \"actual\": 3845.19458, \"position\": 3857.717529, \"action\": \"BUY\"}, {\"date\": \"2019-01-06T00:00:00\", \"actual\": 4076.632568, \"position\": 3845.19458, \"action\": \"SELL\"}, {\"date\": \"2019-01-07T00:00:00\", \"actual\": 4025.2482909999994, \"position\": 4076.632568, \"action\": \"SELL\"}, {\"date\": \"2019-01-08T00:00:00\", \"actual\": 4030.8479, \"position\": 4025.2482909999994, \"action\": \"HOLD\"}, {\"date\": \"2019-01-09T00:00:00\", \"actual\": 4035.296387, \"position\": 4030.8479, \"action\": \"HOLD\"}, {\"date\": \"2019-01-10T00:00:00\", \"actual\": 3678.924561, \"position\": 4035.296387, \"action\": \"BUY\"}, {\"date\": \"2019-01-11T00:00:00\", \"actual\": 3687.365479, \"position\": 3678.924561, \"action\": \"SELL\"}, {\"date\": \"2019-01-12T00:00:00\", \"actual\": 3661.301025, \"position\": 3687.365479, \"action\": \"BUY\"}, {\"date\": \"2019-01-13T00:00:00\", \"actual\": 3552.953125, \"position\": 3661.301025, \"action\": \"SELL\"}, {\"date\": \"2019-01-14T00:00:00\", \"actual\": 3706.052246, \"position\": 3552.953125, \"action\": \"BUY\"}, {\"date\": \"2019-01-15T00:00:00\", \"actual\": 3630.675293, \"position\": 3706.052246, \"action\": \"BUY\"}, {\"date\": \"2019-01-16T00:00:00\", \"actual\": 3655.006836, \"position\": 3630.675293, \"action\": \"SELL\"}, {\"date\": \"2019-01-17T00:00:00\", \"actual\": 3678.563965, \"position\": 3655.006836, \"action\": \"SELL\"}, {\"date\": \"2019-01-18T00:00:00\", \"actual\": 3657.8393549999996, \"position\": 3678.563965, \"action\": \"HOLD\"}, {\"date\": \"2019-01-19T00:00:00\", \"actual\": 3728.5683590000003, \"position\": 3657.8393549999996, \"action\": \"BUY\"}, {\"date\": \"2019-01-20T00:00:00\", \"actual\": 3601.013672, \"position\": 3728.5683590000003, \"action\": \"BUY\"}, {\"date\": \"2019-01-21T00:00:00\", \"actual\": 3576.032471, \"position\": 3601.013672, \"action\": \"SELL\"}, {\"date\": \"2019-01-22T00:00:00\", \"actual\": 3604.577148, \"position\": 3576.032471, \"action\": \"BUY\"}, {\"date\": \"2019-01-23T00:00:00\", \"actual\": 3585.123047, \"position\": 3604.577148, \"action\": \"BUY\"}, {\"date\": \"2019-01-24T00:00:00\", \"actual\": 3600.865479, \"position\": 3585.123047, \"action\": \"SELL\"}, {\"date\": \"2019-01-25T00:00:00\", \"actual\": 3599.765869, \"position\": 3600.865479, \"action\": \"SELL\"}, {\"date\": \"2019-01-26T00:00:00\", \"actual\": 3602.460449, \"position\": 3599.765869, \"action\": \"SELL\"}, {\"date\": \"2019-01-27T00:00:00\", \"actual\": 3583.9658200000003, \"position\": 3602.460449, \"action\": \"HOLD\"}, {\"date\": \"2019-01-28T00:00:00\", \"actual\": 3470.450439, \"position\": 3583.9658200000003, \"action\": \"BUY\"}, {\"date\": \"2019-01-29T00:00:00\", \"actual\": 3448.116943, \"position\": 3470.450439, \"action\": \"SELL\"}, {\"date\": \"2019-01-30T00:00:00\", \"actual\": 3486.1816409999997, \"position\": 3448.116943, \"action\": \"BUY\"}, {\"date\": \"2019-01-31T00:00:00\", \"actual\": 3457.792725, \"position\": 3486.1816409999997, \"action\": \"SELL\"}, {\"date\": \"2019-02-01T00:00:00\", \"actual\": 3487.945313, \"position\": 3457.792725, \"action\": \"BUY\"}, {\"date\": \"2019-02-02T00:00:00\", \"actual\": 3521.0607909999994, \"position\": 3487.945313, \"action\": \"BUY\"}, {\"date\": \"2019-02-03T00:00:00\", \"actual\": 3464.013428, \"position\": 3521.0607909999994, \"action\": \"SELL\"}, {\"date\": \"2019-02-04T00:00:00\", \"actual\": 3459.154053, \"position\": 3464.013428, \"action\": \"SELL\"}, {\"date\": \"2019-02-05T00:00:00\", \"actual\": 3466.357422, \"position\": 3459.154053, \"action\": \"BUY\"}, {\"date\": \"2019-02-06T00:00:00\", \"actual\": 3413.767822, \"position\": 3466.357422, \"action\": \"SELL\"}, {\"date\": \"2019-02-07T00:00:00\", \"actual\": 3399.4716799999997, \"position\": 3413.767822, \"action\": \"BUY\"}, {\"date\": \"2019-02-08T00:00:00\", \"actual\": 3666.780273, \"position\": 3399.4716799999997, \"action\": \"BUY\"}, {\"date\": \"2019-02-09T00:00:00\", \"actual\": 3671.203613, \"position\": 3666.780273, \"action\": \"SELL\"}, {\"date\": \"2019-02-10T00:00:00\", \"actual\": 3690.188232, \"position\": 3671.203613, \"action\": \"SELL\"}, {\"date\": \"2019-02-11T00:00:00\", \"actual\": 3648.430664, \"position\": 3690.188232, \"action\": \"HOLD\"}, {\"date\": \"2019-02-12T00:00:00\", \"actual\": 3653.528564, \"position\": 3648.430664, \"action\": \"HOLD\"}, {\"date\": \"2019-02-13T00:00:00\", \"actual\": 3632.070557, \"position\": 3653.528564, \"action\": \"HOLD\"}, {\"date\": \"2019-02-14T00:00:00\", \"actual\": 3616.8808590000003, \"position\": 3632.070557, \"action\": \"BUY\"}, {\"date\": \"2019-02-15T00:00:00\", \"actual\": 3620.8107909999994, \"position\": 3616.8808590000003, \"action\": \"SELL\"}, {\"date\": \"2019-02-16T00:00:00\", \"actual\": 3629.787598, \"position\": 3620.8107909999994, \"action\": \"HOLD\"}, {\"date\": \"2019-02-17T00:00:00\", \"actual\": 3673.836182, \"position\": 3629.787598, \"action\": \"HOLD\"}, {\"date\": \"2019-02-18T00:00:00\", \"actual\": 3915.7143549999996, \"position\": 3673.836182, \"action\": \"HOLD\"}, {\"date\": \"2019-02-19T00:00:00\", \"actual\": 3947.094482, \"position\": 3915.7143549999996, \"action\": \"HOLD\"}, {\"date\": \"2019-02-20T00:00:00\", \"actual\": 3999.820557, \"position\": 3947.094482, \"action\": \"HOLD\"}, {\"date\": \"2019-02-21T00:00:00\", \"actual\": 3954.118164, \"position\": 3999.820557, \"action\": \"HOLD\"}, {\"date\": \"2019-02-22T00:00:00\", \"actual\": 4005.526611, \"position\": 3954.118164, \"action\": \"HOLD\"}, {\"date\": \"2019-02-23T00:00:00\", \"actual\": 4142.526855, \"position\": 4005.526611, \"action\": \"HOLD\"}, {\"date\": \"2019-02-24T00:00:00\", \"actual\": 3810.42749, \"position\": 4142.526855, \"action\": \"HOLD\"}, {\"date\": \"2019-02-25T00:00:00\", \"actual\": 3882.696289, \"position\": 3810.42749, \"action\": \"HOLD\"}, {\"date\": \"2019-02-26T00:00:00\", \"actual\": 3854.35791, \"position\": 3882.696289, \"action\": \"HOLD\"}, {\"date\": \"2019-02-27T00:00:00\", \"actual\": 3851.047363, \"position\": 3854.35791, \"action\": \"HOLD\"}, {\"date\": \"2019-02-28T00:00:00\", \"actual\": 3854.7854, \"position\": 3851.047363, \"action\": \"BUY\"}, {\"date\": \"2019-03-01T00:00:00\", \"actual\": 3859.58374, \"position\": 3854.7854, \"action\": \"BUY\"}, {\"date\": \"2019-03-02T00:00:00\", \"actual\": 3864.415039, \"position\": 3859.58374, \"action\": \"SELL\"}, {\"date\": \"2019-03-03T00:00:00\", \"actual\": 3847.1757810000004, \"position\": 3864.415039, \"action\": \"BUY\"}, {\"date\": \"2019-03-04T00:00:00\", \"actual\": 3761.557129, \"position\": 3847.1757810000004, \"action\": \"SELL\"}, {\"date\": \"2019-03-05T00:00:00\", \"actual\": 3896.375, \"position\": 3761.557129, \"action\": \"BUY\"}, {\"date\": \"2019-03-06T00:00:00\", \"actual\": 3903.9426270000004, \"position\": 3896.375, \"action\": \"BUY\"}, {\"date\": \"2019-03-07T00:00:00\", \"actual\": 3911.484375, \"position\": 3903.9426270000004, \"action\": \"SELL\"}, {\"date\": \"2019-03-08T00:00:00\", \"actual\": 3901.131592, \"position\": 3911.484375, \"action\": \"SELL\"}, {\"date\": \"2019-03-09T00:00:00\", \"actual\": 3963.313721, \"position\": 3901.131592, \"action\": \"SELL\"}, {\"date\": \"2019-03-10T00:00:00\", \"actual\": 3951.599854, \"position\": 3963.313721, \"action\": \"BUY\"}, {\"date\": \"2019-03-11T00:00:00\", \"actual\": 3905.227295, \"position\": 3951.599854, \"action\": \"BUY\"}, {\"date\": \"2019-03-12T00:00:00\", \"actual\": 3909.15625, \"position\": 3905.227295, \"action\": \"SELL\"}, {\"date\": \"2019-03-13T00:00:00\", \"actual\": 3906.717285, \"position\": 3909.15625, \"action\": \"SELL\"}, {\"date\": \"2019-03-14T00:00:00\", \"actual\": 3924.3691409999997, \"position\": 3906.717285, \"action\": \"HOLD\"}, {\"date\": \"2019-03-15T00:00:00\", \"actual\": 3960.9111329999996, \"position\": 3924.3691409999997, \"action\": \"HOLD\"}, {\"date\": \"2019-03-16T00:00:00\", \"actual\": 4048.72583, \"position\": 3960.9111329999996, \"action\": \"HOLD\"}, {\"date\": \"2019-03-17T00:00:00\", \"actual\": 4025.229004, \"position\": 4048.72583, \"action\": \"HOLD\"}, {\"date\": \"2019-03-18T00:00:00\", \"actual\": 4032.507324, \"position\": 4025.229004, \"action\": \"BUY\"}, {\"date\": \"2019-03-19T00:00:00\", \"actual\": 4071.190186, \"position\": 4032.507324, \"action\": \"SELL\"}, {\"date\": \"2019-03-20T00:00:00\", \"actual\": 4087.476318, \"position\": 4071.190186, \"action\": \"BUY\"}, {\"date\": \"2019-03-21T00:00:00\", \"actual\": 4029.326904, \"position\": 4087.476318, \"action\": \"SELL\"}, {\"date\": \"2019-03-22T00:00:00\", \"actual\": 4023.968262, \"position\": 4029.326904, \"action\": \"HOLD\"}, {\"date\": \"2019-03-23T00:00:00\", \"actual\": 4035.8264159999994, \"position\": 4023.968262, \"action\": \"BUY\"}, {\"date\": \"2019-03-24T00:00:00\", \"actual\": 4022.1682130000004, \"position\": 4035.8264159999994, \"action\": \"SELL\"}, {\"date\": \"2019-03-25T00:00:00\", \"actual\": 3963.070557, \"position\": 4022.1682130000004, \"action\": \"HOLD\"}, {\"date\": \"2019-03-26T00:00:00\", \"actual\": 3985.080811, \"position\": 3963.070557, \"action\": \"BUY\"}, {\"date\": \"2019-03-27T00:00:00\", \"actual\": 4087.0661619999996, \"position\": 3985.080811, \"action\": \"SELL\"}, {\"date\": \"2019-03-28T00:00:00\", \"actual\": 4069.107178, \"position\": 4087.0661619999996, \"action\": \"HOLD\"}, {\"date\": \"2019-03-29T00:00:00\", \"actual\": 4098.374511999999, \"position\": 4069.107178, \"action\": \"BUY\"}, {\"date\": \"2019-03-30T00:00:00\", \"actual\": 4106.660156, \"position\": 4098.374511999999, \"action\": \"SELL\"}, {\"date\": \"2019-03-31T00:00:00\", \"actual\": 4105.404297, \"position\": 4106.660156, \"action\": \"BUY\"}, {\"date\": \"2019-04-01T00:00:00\", \"actual\": 4158.183105, \"position\": 4105.404297, \"action\": \"SELL\"}, {\"date\": \"2019-04-02T00:00:00\", \"actual\": 4879.87793, \"position\": 4158.183105, \"action\": \"HOLD\"}, {\"date\": \"2019-04-03T00:00:00\", \"actual\": 4973.021973, \"position\": 4879.87793, \"action\": \"HOLD\"}, {\"date\": \"2019-04-04T00:00:00\", \"actual\": 4922.798828, \"position\": 4973.021973, \"action\": \"HOLD\"}, {\"date\": \"2019-04-05T00:00:00\", \"actual\": 5036.681152, \"position\": 4922.798828, \"action\": \"HOLD\"}, {\"date\": \"2019-04-06T00:00:00\", \"actual\": 5059.817383, \"position\": 5036.681152, \"action\": \"HOLD\"}, {\"date\": \"2019-04-07T00:00:00\", \"actual\": 5198.896973, \"position\": 5059.817383, \"action\": \"BUY\"}, {\"date\": \"2019-04-08T00:00:00\", \"actual\": 5289.770996, \"position\": 5198.896973, \"action\": \"SELL\"}, {\"date\": \"2019-04-09T00:00:00\", \"actual\": 5204.958496, \"position\": 5289.770996, \"action\": \"HOLD\"}, {\"date\": \"2019-04-10T00:00:00\", \"actual\": 5324.551758, \"position\": 5204.958496, \"action\": \"HOLD\"}, {\"date\": \"2019-04-11T00:00:00\", \"actual\": 5064.487793, \"position\": 5324.551758, \"action\": \"HOLD\"}, {\"date\": \"2019-04-12T00:00:00\", \"actual\": 5089.539063, \"position\": 5064.487793, \"action\": \"HOLD\"}, {\"date\": \"2019-04-13T00:00:00\", \"actual\": 5096.586426, \"position\": 5089.539063, \"action\": \"HOLD\"}, {\"date\": \"2019-04-14T00:00:00\", \"actual\": 5167.722168, \"position\": 5096.586426, \"action\": \"HOLD\"}, {\"date\": \"2019-04-15T00:00:00\", \"actual\": 5067.108397999999, \"position\": 5167.722168, \"action\": \"HOLD\"}, {\"date\": \"2019-04-16T00:00:00\", \"actual\": 5235.55957, \"position\": 5067.108397999999, \"action\": \"HOLD\"}, {\"date\": \"2019-04-17T00:00:00\", \"actual\": 5251.937988000001, \"position\": 5235.55957, \"action\": \"HOLD\"}, {\"date\": \"2019-04-18T00:00:00\", \"actual\": 5298.385742, \"position\": 5251.937988000001, \"action\": \"BUY\"}, {\"date\": \"2019-04-19T00:00:00\", \"actual\": 5303.8125, \"position\": 5298.385742, \"action\": \"SELL\"}, {\"date\": \"2019-04-20T00:00:00\", \"actual\": 5337.88623, \"position\": 5303.8125, \"action\": \"HOLD\"}, {\"date\": \"2019-04-21T00:00:00\", \"actual\": 5314.53125, \"position\": 5337.88623, \"action\": \"HOLD\"}, {\"date\": \"2019-04-22T00:00:00\", \"actual\": 5399.365234000001, \"position\": 5314.53125, \"action\": \"BUY\"}, {\"date\": \"2019-04-23T00:00:00\", \"actual\": 5572.361816, \"position\": 5399.365234000001, \"action\": \"SELL\"}, {\"date\": \"2019-04-24T00:00:00\", \"actual\": 5464.866699, \"position\": 5572.361816, \"action\": \"HOLD\"}, {\"date\": \"2019-04-25T00:00:00\", \"actual\": 5210.515625, \"position\": 5464.866699, \"action\": \"HOLD\"}, {\"date\": \"2019-04-26T00:00:00\", \"actual\": 5279.348145, \"position\": 5210.515625, \"action\": \"BUY\"}, {\"date\": \"2019-04-27T00:00:00\", \"actual\": 5268.291015999999, \"position\": 5279.348145, \"action\": \"SELL\"}, {\"date\": \"2019-04-28T00:00:00\", \"actual\": 5285.13916, \"position\": 5268.291015999999, \"action\": \"BUY\"}, {\"date\": \"2019-04-29T00:00:00\", \"actual\": 5247.352539, \"position\": 5285.13916, \"action\": \"SELL\"}, {\"date\": \"2019-04-30T00:00:00\", \"actual\": 5350.726563, \"position\": 5247.352539, \"action\": \"HOLD\"}, {\"date\": \"2019-05-01T00:00:00\", \"actual\": 5402.697265999999, \"position\": 5350.726563, \"action\": \"BUY\"}, {\"date\": \"2019-05-02T00:00:00\", \"actual\": 5505.283691, \"position\": 5402.697265999999, \"action\": \"BUY\"}, {\"date\": \"2019-05-03T00:00:00\", \"actual\": 5768.289551, \"position\": 5505.283691, \"action\": \"SELL\"}, {\"date\": \"2019-05-04T00:00:00\", \"actual\": 5831.16748, \"position\": 5768.289551, \"action\": \"BUY\"}, {\"date\": \"2019-05-05T00:00:00\", \"actual\": 5795.708496, \"position\": 5831.16748, \"action\": \"SELL\"}, {\"date\": \"2019-05-06T00:00:00\", \"actual\": 5746.807129, \"position\": 5795.708496, \"action\": \"BUY\"}, {\"date\": \"2019-05-07T00:00:00\", \"actual\": 5829.501465, \"position\": 5746.807129, \"action\": \"BUY\"}, {\"date\": \"2019-05-08T00:00:00\", \"actual\": 5982.45752, \"position\": 5829.501465, \"action\": \"SELL\"}, {\"date\": \"2019-05-09T00:00:00\", \"actual\": 6174.528809, \"position\": 5982.45752, \"action\": \"SELL\"}, {\"date\": \"2019-05-10T00:00:00\", \"actual\": 6378.849121, \"position\": 6174.528809, \"action\": \"SELL\"}, {\"date\": \"2019-05-11T00:00:00\", \"actual\": 7204.771484000001, \"position\": 6378.849121, \"action\": \"HOLD\"}, {\"date\": \"2019-05-12T00:00:00\", \"actual\": 6972.371581999999, \"position\": 7204.771484000001, \"action\": \"HOLD\"}, {\"date\": \"2019-05-13T00:00:00\", \"actual\": 7814.915039, \"position\": 6972.371581999999, \"action\": \"BUY\"}, {\"date\": \"2019-05-14T00:00:00\", \"actual\": 7994.416015999999, \"position\": 7814.915039, \"action\": \"SELL\"}, {\"date\": \"2019-05-15T00:00:00\", \"actual\": 8205.167969, \"position\": 7994.416015999999, \"action\": \"HOLD\"}, {\"date\": \"2019-05-16T00:00:00\", \"actual\": 7884.90918, \"position\": 8205.167969, \"action\": \"HOLD\"}, {\"date\": \"2019-05-17T00:00:00\", \"actual\": 7343.895508, \"position\": 7884.90918, \"action\": \"HOLD\"}, {\"date\": \"2019-05-18T00:00:00\", \"actual\": 7271.208008, \"position\": 7343.895508, \"action\": \"BUY\"}, {\"date\": \"2019-05-19T00:00:00\", \"actual\": 8197.689453, \"position\": 7271.208008, \"action\": \"BUY\"}, {\"date\": \"2019-05-20T00:00:00\", \"actual\": 7978.309081999999, \"position\": 8197.689453, \"action\": \"SELL\"}, {\"date\": \"2019-05-21T00:00:00\", \"actual\": 7963.327637, \"position\": 7978.309081999999, \"action\": \"SELL\"}, {\"date\": \"2019-05-22T00:00:00\", \"actual\": 7680.066406, \"position\": 7963.327637, \"action\": \"BUY\"}, {\"date\": \"2019-05-23T00:00:00\", \"actual\": 7881.84668, \"position\": 7680.066406, \"action\": \"BUY\"}, {\"date\": \"2019-05-24T00:00:00\", \"actual\": 7987.371581999999, \"position\": 7881.84668, \"action\": \"BUY\"}, {\"date\": \"2019-05-25T00:00:00\", \"actual\": 8052.543945, \"position\": 7987.371581999999, \"action\": \"SELL\"}, {\"date\": \"2019-05-26T00:00:00\", \"actual\": 8673.21582, \"position\": 8052.543945, \"action\": \"SELL\"}, {\"date\": \"2019-05-27T00:00:00\", \"actual\": 8805.77832, \"position\": 8673.21582, \"action\": \"SELL\"}, {\"date\": \"2019-05-28T00:00:00\", \"actual\": 8719.961914, \"position\": 8805.77832, \"action\": \"HOLD\"}, {\"date\": \"2019-05-29T00:00:00\", \"actual\": 8659.487305, \"position\": 8719.961914, \"action\": \"BUY\"}, {\"date\": \"2019-05-30T00:00:00\", \"actual\": 8319.472656, \"position\": 8659.487305, \"action\": \"SELL\"}, {\"date\": \"2019-05-31T00:00:00\", \"actual\": 8574.501953, \"position\": 8319.472656, \"action\": \"BUY\"}, {\"date\": \"2019-06-01T00:00:00\", \"actual\": 8564.016602, \"position\": 8574.501953, \"action\": \"SELL\"}, {\"date\": \"2019-06-02T00:00:00\", \"actual\": 8742.958008, \"position\": 8564.016602, \"action\": \"HOLD\"}, {\"date\": \"2019-06-03T00:00:00\", \"actual\": 8208.995117, \"position\": 8742.958008, \"action\": \"BUY\"}, {\"date\": \"2019-06-04T00:00:00\", \"actual\": 7707.770995999999, \"position\": 8208.995117, \"action\": \"SELL\"}, {\"date\": \"2019-06-05T00:00:00\", \"actual\": 7824.231445, \"position\": 7707.770995999999, \"action\": \"BUY\"}, {\"date\": \"2019-06-06T00:00:00\", \"actual\": 7822.023437999999, \"position\": 7824.231445, \"action\": \"SELL\"}, {\"date\": \"2019-06-07T00:00:00\", \"actual\": 8043.951172, \"position\": 7822.023437999999, \"action\": \"HOLD\"}, {\"date\": \"2019-06-08T00:00:00\", \"actual\": 7954.12793, \"position\": 8043.951172, \"action\": \"HOLD\"}, {\"date\": \"2019-06-09T00:00:00\", \"actual\": 7688.077148, \"position\": 7954.12793, \"action\": \"HOLD\"}, {\"date\": \"2019-06-10T00:00:00\", \"actual\": 8000.32959, \"position\": 7688.077148, \"action\": \"BUY\"}, {\"date\": \"2019-06-11T00:00:00\", \"actual\": 7927.714355, \"position\": 8000.32959, \"action\": \"BUY\"}, {\"date\": \"2019-06-12T00:00:00\", \"actual\": 8145.857422, \"position\": 7927.714355, \"action\": \"SELL\"}, {\"date\": \"2019-06-13T00:00:00\", \"actual\": 8230.923828, \"position\": 8145.857422, \"action\": \"SELL\"}, {\"date\": \"2019-06-14T00:00:00\", \"actual\": 8693.833008, \"position\": 8230.923828, \"action\": \"HOLD\"}, {\"date\": \"2019-06-15T00:00:00\", \"actual\": 8838.375, \"position\": 8693.833008, \"action\": \"HOLD\"}, {\"date\": \"2019-06-16T00:00:00\", \"actual\": 8994.488281, \"position\": 8838.375, \"action\": \"BUY\"}, {\"date\": \"2019-06-17T00:00:00\", \"actual\": 9320.352539, \"position\": 8994.488281, \"action\": \"SELL\"}, {\"date\": \"2019-06-18T00:00:00\", \"actual\": 9081.762695, \"position\": 9320.352539, \"action\": \"BUY\"}, {\"date\": \"2019-06-19T00:00:00\", \"actual\": 9273.521484, \"position\": 9081.762695, \"action\": \"SELL\"}, {\"date\": \"2019-06-20T00:00:00\", \"actual\": 9527.160156, \"position\": 9273.521484, \"action\": \"HOLD\"}, {\"date\": \"2019-06-21T00:00:00\", \"actual\": 10144.556641, \"position\": 9527.160156, \"action\": \"HOLD\"}, {\"date\": \"2019-06-22T00:00:00\", \"actual\": 10701.691406, \"position\": 10144.556641, \"action\": \"HOLD\"}, {\"date\": \"2019-06-23T00:00:00\", \"actual\": 10855.371094, \"position\": 10701.691406, \"action\": \"HOLD\"}, {\"date\": \"2019-06-24T00:00:00\", \"actual\": 11011.102539, \"position\": 10855.371094, \"action\": \"HOLD\"}, {\"date\": \"2019-06-25T00:00:00\", \"actual\": 11790.916992, \"position\": 11011.102539, \"action\": \"HOLD\"}, {\"date\": \"2019-06-26T00:00:00\", \"actual\": 13016.231445, \"position\": 11790.916992, \"action\": \"HOLD\"}, {\"date\": \"2019-06-27T00:00:00\", \"actual\": 11182.806641, \"position\": 13016.231445, \"action\": \"HOLD\"}, {\"date\": \"2019-06-28T00:00:00\", \"actual\": 12407.332031, \"position\": 11182.806641, \"action\": \"HOLD\"}, {\"date\": \"2019-06-29T00:00:00\", \"actual\": 11959.371094, \"position\": 12407.332031, \"action\": \"BUY\"}, {\"date\": \"2019-06-30T00:00:00\", \"actual\": 10817.155273, \"position\": 11959.371094, \"action\": \"SELL\"}, {\"date\": \"2019-07-01T00:00:00\", \"actual\": 10583.134766, \"position\": 10817.155273, \"action\": \"BUY\"}, {\"date\": \"2019-07-02T00:00:00\", \"actual\": 10801.677734, \"position\": 10583.134766, \"action\": \"SELL\"}, {\"date\": \"2019-07-03T00:00:00\", \"actual\": 11961.269531, \"position\": 10801.677734, \"action\": \"HOLD\"}, {\"date\": \"2019-07-04T00:00:00\", \"actual\": 11215.4375, \"position\": 11961.269531, \"action\": \"HOLD\"}, {\"date\": \"2019-07-05T00:00:00\", \"actual\": 10978.459961, \"position\": 11215.4375, \"action\": \"HOLD\"}, {\"date\": \"2019-07-06T00:00:00\", \"actual\": 11208.550781, \"position\": 10978.459961, \"action\": \"HOLD\"}, {\"date\": \"2019-07-07T00:00:00\", \"actual\": 11450.84668, \"position\": 11208.550781, \"action\": \"BUY\"}, {\"date\": \"2019-07-08T00:00:00\", \"actual\": 12285.958008, \"position\": 11450.84668, \"action\": \"BUY\"}, {\"date\": \"2019-07-09T00:00:00\", \"actual\": 12573.8125, \"position\": 12285.958008, \"action\": \"SELL\"}, {\"date\": \"2019-07-10T00:00:00\", \"actual\": 12156.512695, \"position\": 12573.8125, \"action\": \"SELL\"}, {\"date\": \"2019-07-11T00:00:00\", \"actual\": 11358.662109, \"position\": 12156.512695, \"action\": \"HOLD\"}, {\"date\": \"2019-07-12T00:00:00\", \"actual\": 11815.986328, \"position\": 11358.662109, \"action\": \"BUY\"}, {\"date\": \"2019-07-13T00:00:00\", \"actual\": 11392.378906, \"position\": 11815.986328, \"action\": \"SELL\"}, {\"date\": \"2019-07-14T00:00:00\", \"actual\": 10256.058594, \"position\": 11392.378906, \"action\": \"BUY\"}, {\"date\": \"2019-07-15T00:00:00\", \"actual\": 10895.089844, \"position\": 10256.058594, \"action\": \"BUY\"}, {\"date\": \"2019-07-16T00:00:00\", \"actual\": 9477.641602, \"position\": 10895.089844, \"action\": \"SELL\"}, {\"date\": \"2019-07-17T00:00:00\", \"actual\": 9693.802734, \"position\": 9477.641602, \"action\": \"SELL\"}, {\"date\": \"2019-07-18T00:00:00\", \"actual\": 10666.482422, \"position\": 9693.802734, \"action\": \"BUY\"}, {\"date\": \"2019-07-19T00:00:00\", \"actual\": 10530.732422, \"position\": 10666.482422, \"action\": \"SELL\"}, {\"date\": \"2019-07-20T00:00:00\", \"actual\": 10767.139648, \"position\": 10530.732422, \"action\": \"BUY\"}, {\"date\": \"2019-07-21T00:00:00\", \"actual\": 10599.105469, \"position\": 10767.139648, \"action\": \"BUY\"}, {\"date\": \"2019-07-22T00:00:00\", \"actual\": 10343.106445, \"position\": 10599.105469, \"action\": \"SELL\"}, {\"date\": \"2019-07-23T00:00:00\", \"actual\": 9900.767578, \"position\": 10343.106445, \"action\": \"BUY\"}, {\"date\": \"2019-07-24T00:00:00\", \"actual\": 9811.925781, \"position\": 9900.767578, \"action\": \"BUY\"}, {\"date\": \"2019-07-25T00:00:00\", \"actual\": 9911.841797, \"position\": 9811.925781, \"action\": \"BUY\"}, {\"date\": \"2019-07-26T00:00:00\", \"actual\": 9870.303711, \"position\": 9911.841797, \"action\": \"SELL\"}, {\"date\": \"2019-07-27T00:00:00\", \"actual\": 9477.677734, \"position\": 9870.303711, \"action\": \"SELL\"}, {\"date\": \"2019-07-28T00:00:00\", \"actual\": 9552.860352, \"position\": 9477.677734, \"action\": \"BUY\"}, {\"date\": \"2019-07-29T00:00:00\", \"actual\": 9519.145508, \"position\": 9552.860352, \"action\": \"BUY\"}, {\"date\": \"2019-07-30T00:00:00\", \"actual\": 9607.423828, \"position\": 9519.145508, \"action\": \"BUY\"}, {\"date\": \"2019-07-31T00:00:00\", \"actual\": 10085.62793, \"position\": 9607.423828, \"action\": \"BUY\"}, {\"date\": \"2019-08-01T00:00:00\", \"actual\": 10399.668945, \"position\": 10085.62793, \"action\": \"SELL\"}, {\"date\": \"2019-08-02T00:00:00\", \"actual\": 10518.174805, \"position\": 10399.668945, \"action\": \"SELL\"}, {\"date\": \"2019-08-03T00:00:00\", \"actual\": 10821.726563, \"position\": 10518.174805, \"action\": \"BUY\"}, {\"date\": \"2019-08-04T00:00:00\", \"actual\": 10970.18457, \"position\": 10821.726563, \"action\": \"SELL\"}, {\"date\": \"2019-08-05T00:00:00\", \"actual\": 11805.65332, \"position\": 10970.18457, \"action\": \"BUY\"}, {\"date\": \"2019-08-06T00:00:00\", \"actual\": 11478.168945, \"position\": 11805.65332, \"action\": \"SELL\"}, {\"date\": \"2019-08-07T00:00:00\", \"actual\": 11941.96875, \"position\": 11478.168945, \"action\": \"SELL\"}, {\"date\": \"2019-08-08T00:00:00\", \"actual\": 11966.407227, \"position\": 11941.96875, \"action\": \"BUY\"}, {\"date\": \"2019-08-09T00:00:00\", \"actual\": 11862.936523, \"position\": 11966.407227, \"action\": \"SELL\"}, {\"date\": \"2019-08-10T00:00:00\", \"actual\": 11354.024414, \"position\": 11862.936523, \"action\": \"SELL\"}, {\"date\": \"2019-08-11T00:00:00\", \"actual\": 11523.579102, \"position\": 11354.024414, \"action\": \"BUY\"}, {\"date\": \"2019-08-12T00:00:00\", \"actual\": 11382.616211, \"position\": 11523.579102, \"action\": \"SELL\"}, {\"date\": \"2019-08-13T00:00:00\", \"actual\": 10895.830078, \"position\": 11382.616211, \"action\": \"BUY\"}, {\"date\": \"2019-08-14T00:00:00\", \"actual\": 10051.704102, \"position\": 10895.830078, \"action\": \"BUY\"}, {\"date\": \"2019-08-15T00:00:00\", \"actual\": 10311.545898, \"position\": 10051.704102, \"action\": \"SELL\"}, {\"date\": \"2019-08-16T00:00:00\", \"actual\": 10374.338867, \"position\": 10311.545898, \"action\": \"SELL\"}, {\"date\": \"2019-08-17T00:00:00\", \"actual\": 10231.744141, \"position\": 10374.338867, \"action\": \"SELL\"}, {\"date\": \"2019-08-18T00:00:00\", \"actual\": 10345.810547, \"position\": 10231.744141, \"action\": \"SELL\"}, {\"date\": \"2019-08-19T00:00:00\", \"actual\": 10916.053711, \"position\": 10345.810547, \"action\": \"HOLD\"}, {\"date\": \"2019-08-20T00:00:00\", \"actual\": 10763.232422, \"position\": 10916.053711, \"action\": \"BUY\"}, {\"date\": \"2019-08-21T00:00:00\", \"actual\": 10138.049805, \"position\": 10763.232422, \"action\": \"BUY\"}, {\"date\": \"2019-08-22T00:00:00\", \"actual\": 10131.055664, \"position\": 10138.049805, \"action\": \"SELL\"}, {\"date\": \"2019-08-23T00:00:00\", \"actual\": 10407.964844, \"position\": 10131.055664, \"action\": \"BUY\"}, {\"date\": \"2019-08-24T00:00:00\", \"actual\": 10159.960938, \"position\": 10407.964844, \"action\": \"SELL\"}, {\"date\": \"2019-08-25T00:00:00\", \"actual\": 10138.517578, \"position\": 10159.960938, \"action\": \"SELL\"}, {\"date\": \"2019-08-26T00:00:00\", \"actual\": 10370.820313, \"position\": 10138.517578, \"action\": \"HOLD\"}, {\"date\": \"2019-08-27T00:00:00\", \"actual\": 10185.5, \"position\": 10370.820313, \"action\": \"HOLD\"}, {\"date\": \"2019-08-28T00:00:00\", \"actual\": 9754.422852, \"position\": 10185.5, \"action\": \"HOLD\"}, {\"date\": \"2019-08-29T00:00:00\", \"actual\": 9510.200195, \"position\": 9754.422852, \"action\": \"BUY\"}, {\"date\": \"2019-08-30T00:00:00\", \"actual\": 9598.173828, \"position\": 9510.200195, \"action\": \"SELL\"}, {\"date\": \"2019-08-31T00:00:00\", \"actual\": 9630.664063, \"position\": 9598.173828, \"action\": \"HOLD\"}, {\"date\": \"2019-09-01T00:00:00\", \"actual\": 9757.970703, \"position\": 9630.664063, \"action\": \"HOLD\"}, {\"date\": \"2019-09-02T00:00:00\", \"actual\": 10346.760742, \"position\": 9757.970703, \"action\": \"HOLD\"}, {\"date\": \"2019-09-03T00:00:00\", \"actual\": 10623.540039, \"position\": 10346.760742, \"action\": \"HOLD\"}, {\"date\": \"2019-09-04T00:00:00\", \"actual\": 10594.493164, \"position\": 10623.540039, \"action\": \"HOLD\"}, {\"date\": \"2019-09-05T00:00:00\", \"actual\": 10575.533203, \"position\": 10594.493164, \"action\": \"BUY\"}, {\"date\": \"2019-09-06T00:00:00\", \"actual\": 10353.302734, \"position\": 10575.533203, \"action\": \"SELL\"}, {\"date\": \"2019-09-07T00:00:00\", \"actual\": 10517.254883, \"position\": 10353.302734, \"action\": \"BUY\"}, {\"date\": \"2019-09-08T00:00:00\", \"actual\": 10441.276367, \"position\": 10517.254883, \"action\": \"SELL\"}, {\"date\": \"2019-09-09T00:00:00\", \"actual\": 10334.974609, \"position\": 10441.276367, \"action\": \"HOLD\"}, {\"date\": \"2019-09-10T00:00:00\", \"actual\": 10115.975586, \"position\": 10334.974609, \"action\": \"HOLD\"}, {\"date\": \"2019-09-11T00:00:00\", \"actual\": 10178.37207, \"position\": 10115.975586, \"action\": \"BUY\"}, {\"date\": \"2019-09-12T00:00:00\", \"actual\": 10410.126953, \"position\": 10178.37207, \"action\": \"BUY\"}, {\"date\": \"2019-09-13T00:00:00\", \"actual\": 10360.546875, \"position\": 10410.126953, \"action\": \"SELL\"}, {\"date\": \"2019-09-14T00:00:00\", \"actual\": 10358.048828, \"position\": 10360.546875, \"action\": \"SELL\"}, {\"date\": \"2019-09-15T00:00:00\", \"actual\": 10347.712891, \"position\": 10358.048828, \"action\": \"HOLD\"}, {\"date\": \"2019-09-16T00:00:00\", \"actual\": 10276.793945, \"position\": 10347.712891, \"action\": \"BUY\"}, {\"date\": \"2019-09-17T00:00:00\", \"actual\": 10241.272461, \"position\": 10276.793945, \"action\": \"BUY\"}, {\"date\": \"2019-09-18T00:00:00\", \"actual\": 10198.248047, \"position\": 10241.272461, \"action\": \"BUY\"}, {\"date\": \"2019-09-19T00:00:00\", \"actual\": 10266.415039, \"position\": 10198.248047, \"action\": \"BUY\"}, {\"date\": \"2019-09-20T00:00:00\", \"actual\": 10181.641602, \"position\": 10266.415039, \"action\": \"BUY\"}, {\"date\": \"2019-09-21T00:00:00\", \"actual\": 10019.716797, \"position\": 10181.641602, \"action\": \"SELL\"}, {\"date\": \"2019-09-22T00:00:00\", \"actual\": 10070.392578, \"position\": 10019.716797, \"action\": \"SELL\"}, {\"date\": \"2019-09-23T00:00:00\", \"actual\": 9729.324219, \"position\": 10070.392578, \"action\": \"BUY\"}, {\"date\": \"2019-09-24T00:00:00\", \"actual\": 8620.566406, \"position\": 9729.324219, \"action\": \"BUY\"}, {\"date\": \"2019-09-25T00:00:00\", \"actual\": 8486.993164, \"position\": 8620.566406, \"action\": \"BUY\"}, {\"date\": \"2019-09-26T00:00:00\", \"actual\": 8118.967773, \"position\": 8486.993164, \"action\": \"SELL\"}, {\"date\": \"2019-09-27T00:00:00\", \"actual\": 8251.845703, \"position\": 8118.967773, \"action\": \"BUY\"}, {\"date\": \"2019-09-28T00:00:00\", \"actual\": 8245.915039, \"position\": 8251.845703, \"action\": \"BUY\"}, {\"date\": \"2019-09-29T00:00:00\", \"actual\": 8104.185547, \"position\": 8245.915039, \"action\": \"SELL\"}, {\"date\": \"2019-09-30T00:00:00\", \"actual\": 8293.868164, \"position\": 8104.185547, \"action\": \"BUY\"}, {\"date\": \"2019-10-01T00:00:00\", \"actual\": 8343.276367, \"position\": 8293.868164, \"action\": \"BUY\"}, {\"date\": \"2019-10-02T00:00:00\", \"actual\": 8393.041992, \"position\": 8343.276367, \"action\": \"BUY\"}, {\"date\": \"2019-10-03T00:00:00\", \"actual\": 8259.992188, \"position\": 8393.041992, \"action\": \"SELL\"}, {\"date\": \"2019-10-04T00:00:00\", \"actual\": 8205.939453, \"position\": 8259.992188, \"action\": \"SELL\"}, {\"date\": \"2019-10-05T00:00:00\", \"actual\": 8151.500488, \"position\": 8205.939453, \"action\": \"BUY\"}, {\"date\": \"2019-10-06T00:00:00\", \"actual\": 7988.155762, \"position\": 8151.500488, \"action\": \"BUY\"}, {\"date\": \"2019-10-07T00:00:00\", \"actual\": 8245.623047, \"position\": 7988.155762, \"action\": \"BUY\"}, {\"date\": \"2019-10-08T00:00:00\", \"actual\": 8228.783203, \"position\": 8245.623047, \"action\": \"SELL\"}, {\"date\": \"2019-10-09T00:00:00\", \"actual\": 8595.740234, \"position\": 8228.783203, \"action\": \"SELL\"}, {\"date\": \"2019-10-10T00:00:00\", \"actual\": 8586.473633, \"position\": 8595.740234, \"action\": \"SELL\"}, {\"date\": \"2019-10-11T00:00:00\", \"actual\": 8321.756836, \"position\": 8586.473633, \"action\": \"SELL\"}, {\"date\": \"2019-10-12T00:00:00\", \"actual\": 8336.555664, \"position\": 8321.756836, \"action\": \"SELL\"}, {\"date\": \"2019-10-13T00:00:00\", \"actual\": 8321.005859, \"position\": 8336.555664, \"action\": \"BUY\"}, {\"date\": \"2019-10-14T00:00:00\", \"actual\": 8374.686523, \"position\": 8321.005859, \"action\": \"SELL\"}, {\"date\": \"2019-10-15T00:00:00\", \"actual\": 8205.369141, \"position\": 8374.686523, \"action\": \"SELL\"}, {\"date\": \"2019-10-16T00:00:00\", \"actual\": 8047.526855, \"position\": 8205.369141, \"action\": \"SELL\"}, {\"date\": \"2019-10-17T00:00:00\", \"actual\": 8103.911133, \"position\": 8047.526855, \"action\": \"BUY\"}, {\"date\": \"2019-10-18T00:00:00\", \"actual\": 7973.20752, \"position\": 8103.911133, \"action\": \"BUY\"}, {\"date\": \"2019-10-19T00:00:00\", \"actual\": 7988.560547, \"position\": 7973.20752, \"action\": \"SELL\"}, {\"date\": \"2019-10-20T00:00:00\", \"actual\": 8222.078125, \"position\": 7988.560547, \"action\": \"SELL\"}, {\"date\": \"2019-10-21T00:00:00\", \"actual\": 8243.720703, \"position\": 8222.078125, \"action\": \"SELL\"}, {\"date\": \"2019-10-22T00:00:00\", \"actual\": 8078.203125, \"position\": 8243.720703, \"action\": \"SELL\"}, {\"date\": \"2019-10-23T00:00:00\", \"actual\": 7514.671875, \"position\": 8078.203125, \"action\": \"BUY\"}, {\"date\": \"2019-10-24T00:00:00\", \"actual\": 7493.48877, \"position\": 7514.671875, \"action\": \"SELL\"}, {\"date\": \"2019-10-25T00:00:00\", \"actual\": 8660.700195, \"position\": 7493.48877, \"action\": \"BUY\"}, {\"date\": \"2019-10-26T00:00:00\", \"actual\": 9244.972656, \"position\": 8660.700195, \"action\": \"SELL\"}, {\"date\": \"2019-10-27T00:00:00\", \"actual\": 9551.714844, \"position\": 9244.972656, \"action\": \"SELL\"}, {\"date\": \"2019-10-28T00:00:00\", \"actual\": 9256.148438, \"position\": 9551.714844, \"action\": \"HOLD\"}, {\"date\": \"2019-10-29T00:00:00\", \"actual\": 9427.6875, \"position\": 9256.148438, \"action\": \"HOLD\"}, {\"date\": \"2019-10-30T00:00:00\", \"actual\": 9205.726563, \"position\": 9427.6875, \"action\": \"HOLD\"}, {\"date\": \"2019-10-31T00:00:00\", \"actual\": 9199.584961, \"position\": 9205.726563, \"action\": \"BUY\"}, {\"date\": \"2019-11-01T00:00:00\", \"actual\": 9261.104492, \"position\": 9199.584961, \"action\": \"SELL\"}, {\"date\": \"2019-11-02T00:00:00\", \"actual\": 9324.717773, \"position\": 9261.104492, \"action\": \"HOLD\"}, {\"date\": \"2019-11-03T00:00:00\", \"actual\": 9235.354492, \"position\": 9324.717773, \"action\": \"HOLD\"}, {\"date\": \"2019-11-04T00:00:00\", \"actual\": 9412.612305, \"position\": 9235.354492, \"action\": \"HOLD\"}, {\"date\": \"2019-11-05T00:00:00\", \"actual\": 9342.527344, \"position\": 9412.612305, \"action\": \"HOLD\"}, {\"date\": \"2019-11-06T00:00:00\", \"actual\": 9360.879883, \"position\": 9342.527344, \"action\": \"BUY\"}, {\"date\": \"2019-11-07T00:00:00\", \"actual\": 9267.561523, \"position\": 9360.879883, \"action\": \"SELL\"}, {\"date\": \"2019-11-08T00:00:00\", \"actual\": 8804.880859, \"position\": 9267.561523, \"action\": \"HOLD\"}, {\"date\": \"2019-11-09T00:00:00\", \"actual\": 8813.582031, \"position\": 8804.880859, \"action\": \"BUY\"}, {\"date\": \"2019-11-10T00:00:00\", \"actual\": 9055.526367, \"position\": 8813.582031, \"action\": \"SELL\"}, {\"date\": \"2019-11-11T00:00:00\", \"actual\": 8757.788086, \"position\": 9055.526367, \"action\": \"HOLD\"}, {\"date\": \"2019-11-12T00:00:00\", \"actual\": 8815.662109, \"position\": 8757.788086, \"action\": \"BUY\"}, {\"date\": \"2019-11-13T00:00:00\", \"actual\": 8808.262695, \"position\": 8815.662109, \"action\": \"SELL\"}, {\"date\": \"2019-11-14T00:00:00\", \"actual\": 8708.094727, \"position\": 8808.262695, \"action\": \"BUY\"}, {\"date\": \"2019-11-15T00:00:00\", \"actual\": 8491.992188, \"position\": 8708.094727, \"action\": \"BUY\"}, {\"date\": \"2019-11-16T00:00:00\", \"actual\": 8550.760742, \"position\": 8491.992188, \"action\": \"BUY\"}, {\"date\": \"2019-11-17T00:00:00\", \"actual\": 8577.975586, \"position\": 8550.760742, \"action\": \"SELL\"}, {\"date\": \"2019-11-18T00:00:00\", \"actual\": 8309.286133, \"position\": 8577.975586, \"action\": \"SELL\"}, {\"date\": \"2019-11-19T00:00:00\", \"actual\": 8206.145508, \"position\": 8309.286133, \"action\": \"SELL\"}, {\"date\": \"2019-11-20T00:00:00\", \"actual\": 8027.268066, \"position\": 8206.145508, \"action\": \"HOLD\"}, {\"date\": \"2019-11-21T00:00:00\", \"actual\": 7642.75, \"position\": 8027.268066, \"action\": \"BUY\"}, {\"date\": \"2019-11-22T00:00:00\", \"actual\": 7296.577637, \"position\": 7642.75, \"action\": \"BUY\"}, {\"date\": \"2019-11-23T00:00:00\", \"actual\": 7397.796875, \"position\": 7296.577637, \"action\": \"BUY\"}, {\"date\": \"2019-11-24T00:00:00\", \"actual\": 7047.916992, \"position\": 7397.796875, \"action\": \"SELL\"}, {\"date\": \"2019-11-25T00:00:00\", \"actual\": 7146.133789, \"position\": 7047.916992, \"action\": \"BUY\"}, {\"date\": \"2019-11-26T00:00:00\", \"actual\": 7218.371094, \"position\": 7146.133789, \"action\": \"BUY\"}, {\"date\": \"2019-11-27T00:00:00\", \"actual\": 7531.663573999999, \"position\": 7218.371094, \"action\": \"SELL\"}, {\"date\": \"2019-11-28T00:00:00\", \"actual\": 7463.105956999999, \"position\": 7531.663573999999, \"action\": \"SELL\"}, {\"date\": \"2019-11-29T00:00:00\", \"actual\": 7761.243651999999, \"position\": 7463.105956999999, \"action\": \"BUY\"}, {\"date\": \"2019-11-30T00:00:00\", \"actual\": 7569.629883, \"position\": 7761.243651999999, \"action\": \"SELL\"}, {\"date\": \"2019-12-01T00:00:00\", \"actual\": 7424.29248, \"position\": 7569.629883, \"action\": \"BUY\"}, {\"date\": \"2019-12-02T00:00:00\", \"actual\": 7321.988281, \"position\": 7424.29248, \"action\": \"SELL\"}, {\"date\": \"2019-12-03T00:00:00\", \"actual\": 7320.145508, \"position\": 7321.988281, \"action\": \"BUY\"}, {\"date\": \"2019-12-04T00:00:00\", \"actual\": 7252.034668000001, \"position\": 7320.145508, \"action\": \"BUY\"}, {\"date\": \"2019-12-05T00:00:00\", \"actual\": 7448.307617, \"position\": 7252.034668000001, \"action\": \"BUY\"}, {\"date\": \"2019-12-06T00:00:00\", \"actual\": 7546.996581999999, \"position\": 7448.307617, \"action\": \"BUY\"}, {\"date\": \"2019-12-07T00:00:00\", \"actual\": 7556.237793000001, \"position\": 7546.996581999999, \"action\": \"SELL\"}, {\"date\": \"2019-12-08T00:00:00\", \"actual\": 7564.345215, \"position\": 7556.237793000001, \"action\": \"SELL\"}, {\"date\": \"2019-12-09T00:00:00\", \"actual\": 7400.899414, \"position\": 7564.345215, \"action\": \"SELL\"}, {\"date\": \"2019-12-10T00:00:00\", \"actual\": 7278.119629000001, \"position\": 7400.899414, \"action\": \"BUY\"}]}}, {\"mode\": \"vega-lite\"});\n",
       "</script>"
      ],
      "text/plain": [
       "alt.LayerChart(...)"
      ]
     },
     "execution_count": 10,
     "metadata": {},
     "output_type": "execute_result"
    }
   ],
   "source": [
    "val_result, history = evaluate_model(agent, val_data, window_size, debug)\n",
    "show_eval_result(model_name, val_result, initial_offset)\n",
    "chart = visualize(df, history)\n",
    "chart"
   ]
  },
  {
   "cell_type": "code",
   "execution_count": null,
   "metadata": {},
   "outputs": [],
   "source": []
  }
 ],
 "metadata": {
  "kernelspec": {
   "display_name": "Python 3",
   "language": "python",
   "name": "python3"
  },
  "language_info": {
   "codemirror_mode": {
    "name": "ipython",
    "version": 3
   },
   "file_extension": ".py",
   "mimetype": "text/x-python",
   "name": "python",
   "nbconvert_exporter": "python",
   "pygments_lexer": "ipython3",
   "version": "3.6.9"
  }
 },
 "nbformat": 4,
 "nbformat_minor": 2
}
